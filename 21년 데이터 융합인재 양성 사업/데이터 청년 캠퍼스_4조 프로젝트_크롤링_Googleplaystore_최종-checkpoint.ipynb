{
 "cells": [
  {
   "cell_type": "markdown",
   "metadata": {},
   "source": [
    "# 쿠팡이츠"
   ]
  },
  {
   "cell_type": "code",
   "execution_count": 2,
   "metadata": {},
   "outputs": [],
   "source": [
    "# Load Module\n",
    "from selenium import webdriver\n",
    "from selenium.webdriver.common.keys import Keys\n",
    "from bs4 import BeautifulSoup\n",
    "import urllib.request as req\n",
    "\n",
    "import pandas as pd\n",
    "import numpy as np\n",
    "import collections as co\n",
    "\n",
    "import time"
   ]
  },
  {
   "cell_type": "code",
   "execution_count": null,
   "metadata": {},
   "outputs": [],
   "source": [
    "# Enter the website page\n",
    "url = \"https://play.google.com/store/apps/details?id=com.coupang.mobile.eats&hl=ko&gl=US&showAllReviews=true\"\n",
    "driver = webdriver.Chrome(\"D:/temp/chromedriver_win32/chromedriver.exe\") # 크롬드라이버 사용\n",
    "driver.get(url)\n",
    "\n",
    "# Scrape Data\n",
    "SCROLL_PAUSE_TIME = 1.5\n",
    "last_height = driver.execute_script(\"return document.body.scrollHeight\")\n",
    "while True:\n",
    "    # 4번의 스크롤링\n",
    "    for i in range(4):\n",
    "        driver.execute_script(\"window.scrollTo(0, document.body.scrollHeight);\")\n",
    "        time.sleep(SCROLL_PAUSE_TIME)\n",
    "        \n",
    "    # 더보기 클릭\n",
    "    driver.find_element_by_xpath(\"//span[@class='RveJvd snByac']\").click()\n",
    "    \n",
    "    # 종료 조건\n",
    "    new_height = driver.execute_script(\"return document.body.scrollHeight\")\n",
    "    if new_height == last_height:\n",
    "        break\n",
    "    last_height = new_height"
   ]
  },
  {
   "cell_type": "markdown",
   "metadata": {},
   "source": [
    "- 오류창이 나면 마무리 된 것. 쿠팡이츠의 경우 약 44000개의 리뷰가 있으나 일정 기간까지만 나타나게 한 것 같다."
   ]
  },
  {
   "cell_type": "code",
   "execution_count": null,
   "metadata": {},
   "outputs": [],
   "source": [
    "# [전체 리뷰] 버튼 클릭하여 펼치기\n",
    "spread_review = driver.find_elements_by_xpath(\"//button[@jsaction='click:TiglPc']\")\n",
    "for i in range(len(spread_review)):\n",
    "    isTrue = spread_review[i].is_displayed()\n",
    "    print(\"Element is visible?\" + str(isTrue))\n",
    "    if isTrue:\n",
    "        spread_review[i].send_keys(Keys.ENTER) # .click() 대신 .send_keys(Keys.ENTER)를 사용\n",
    "        print(str(i)+\"th more button is clicked and wait 1.75 secs...\")\n",
    "        time.sleep(SCROLL_PAUSE_TIME)\n",
    "        \n",
    "reviews = driver.find_elements_by_xpath(\"//span[contains(@jsname, 'bN97Pc')]\")  \n",
    "long_reviews = driver.find_elements_by_xpath(\"//span[@jsname='fbQN7e']\")\n",
    "    \n",
    "# merge two lists\n",
    "merged_review = [t.text if t.text!=\"\" else long_reviews[i].text for i, t in enumerate(reviews)]\n",
    "\n",
    "dates = driver.find_elements_by_xpath(\"//span[@class='p2TkOb']\")\n",
    "likes = driver.find_elements_by_xpath(\"//div[@aria-label='이 리뷰가 유용하다는 평가를 받은 횟수입니다.']\")\n",
    "stars = driver.find_elements_by_xpath(\"//span[@class='nt2C1d']/div[@class='pf5lIe']/div[@role='img']\")\n",
    "stars_text = stars[3].get_attribute('aria-label')\n",
    "\n",
    "# Merge Data\n",
    "res_deque = co.deque([])\n",
    "for i in range(len(reviews)):\n",
    "    res_deque.append({\n",
    "        'DATE' : dates[i].text,\n",
    "        'STAR' : stars[i].get_attribute('aria-label'),\n",
    "        'LIKE' : likes[i].text,\n",
    "        'REVIEW' : merged_review[i]\n",
    "    })\n",
    "\n",
    "res_df = pd.DataFrame(res_deque)\n",
    "res_df.to_csv('./Crawling_data1_쿠팡이츠.csv', index=False, encoding='utf-8-sig')"
   ]
  },
  {
   "cell_type": "markdown",
   "metadata": {},
   "source": [
    "- 저장경로 : C:\\\\Users\\\\서석주\\\\Bigdata_ML"
   ]
  },
  {
   "cell_type": "code",
   "execution_count": null,
   "metadata": {},
   "outputs": [],
   "source": [
    "len(reviews) # 11240개의 리뷰 크롤링 완료(20210803 당시)"
   ]
  },
  {
   "cell_type": "markdown",
   "metadata": {},
   "source": [
    "# 쿠팡이츠배달파트너"
   ]
  },
  {
   "cell_type": "code",
   "execution_count": null,
   "metadata": {},
   "outputs": [],
   "source": [
    "# Enter the website page\n",
    "url = \"https://play.google.com/store/apps/details?id=com.coupang.mobile.eats.courier&hl=ko&gl=US&showAllReviews=true\"\n",
    "driver = webdriver.Chrome(\"D:/temp/chromedriver_win32/chromedriver.exe\")\n",
    "driver.get(url)\n",
    "\n",
    "# Scrape Data\n",
    "SCROLL_PAUSE_TIME = 1.5\n",
    "last_height = driver.execute_script(\"return document.body.scrollHeight\")\n",
    "while True:\n",
    "    # 4번의 스크롤링\n",
    "    for i in range(4):\n",
    "        driver.execute_script(\"window.scrollTo(0, document.body.scrollHeight);\")\n",
    "        time.sleep(SCROLL_PAUSE_TIME)\n",
    "        \n",
    "    # 더보기 클릭\n",
    "    driver.find_element_by_xpath(\"//span[@class='RveJvd snByac']\").click()\n",
    "    \n",
    "    # 종료 조건\n",
    "    new_height = driver.execute_script(\"return document.body.scrollHeight\")\n",
    "    if new_height == last_height:\n",
    "        break\n",
    "    last_height = new_height"
   ]
  },
  {
   "cell_type": "markdown",
   "metadata": {},
   "source": [
    "- 오류창이 나면 마무리 된 것. 쿠팡이츠의 경우 약 44000개의 리뷰가 있으나 일정 기간까지만 나타나게 한 것 같다."
   ]
  },
  {
   "cell_type": "code",
   "execution_count": null,
   "metadata": {},
   "outputs": [],
   "source": [
    "# [전체 리뷰] 버튼 클릭하여 펼치기\n",
    "spread_review = driver.find_elements_by_xpath(\"//button[@jsaction='click:TiglPc']\")\n",
    "for i in range(len(spread_review)):\n",
    "    isTrue = spread_review[i].is_displayed()\n",
    "    print(\"Element is visible?\" + str(isTrue))\n",
    "    if isTrue:\n",
    "        spread_review[i].send_keys(Keys.ENTER) # .click() 대신 .send_keys(Keys.ENTER)를 사용\n",
    "        print(str(i)+\"th more button is clicked and wait 1.75 secs...\")\n",
    "        time.sleep(SCROLL_PAUSE_TIME)\n",
    "        \n",
    "reviews = driver.find_elements_by_xpath(\"//span[contains(@jsname, 'bN97Pc')]\")  \n",
    "long_reviews = driver.find_elements_by_xpath(\"//span[@jsname='fbQN7e']\")\n",
    "    \n",
    "# merge two lists\n",
    "merged_review = [t.text if t.text!=\"\" else long_reviews[i].text for i, t in enumerate(reviews)]\n",
    "\n",
    "dates = driver.find_elements_by_xpath(\"//span[@class='p2TkOb']\")\n",
    "likes = driver.find_elements_by_xpath(\"//div[@aria-label='이 리뷰가 유용하다는 평가를 받은 횟수입니다.']\")\n",
    "stars = driver.find_elements_by_xpath(\"//span[@class='nt2C1d']/div[@class='pf5lIe']/div[@role='img']\")\n",
    "stars_text = stars[3].get_attribute('aria-label')\n",
    "\n",
    "# Merge Data\n",
    "res_deque = co.deque([])\n",
    "for i in range(len(reviews)):\n",
    "    res_deque.append({\n",
    "        'DATE' : dates[i].text,\n",
    "        'STAR' : stars[i].get_attribute('aria-label'),\n",
    "        'LIKE' : likes[i].text,\n",
    "        'REVIEW' : merged_review[i]\n",
    "    })\n",
    "\n",
    "res_df = pd.DataFrame(res_deque)\n",
    "res_df.to_csv('./Crawling_data2_쿠팡이츠 배달파트너.csv', index=False, encoding='utf-8-sig')"
   ]
  },
  {
   "cell_type": "markdown",
   "metadata": {},
   "source": [
    "- 저장경로 : C:\\\\Users\\\\서석주\\\\Bigdata_ML"
   ]
  },
  {
   "cell_type": "code",
   "execution_count": null,
   "metadata": {},
   "outputs": [],
   "source": [
    "len(reviews) # 3519개의 리뷰 크롤링 완료(20210803 당시)"
   ]
  },
  {
   "cell_type": "markdown",
   "metadata": {},
   "source": [
    "# 쿠팡이츠스토어"
   ]
  },
  {
   "cell_type": "code",
   "execution_count": 3,
   "metadata": {},
   "outputs": [
    {
     "ename": "NoSuchElementException",
     "evalue": "Message: no such element: Unable to locate element: {\"method\":\"xpath\",\"selector\":\"//span[@class='RveJvd snByac']\"}\n  (Session info: chrome=92.0.4515.159)\n",
     "output_type": "error",
     "traceback": [
      "\u001b[1;31m---------------------------------------------------------------------------\u001b[0m",
      "\u001b[1;31mNoSuchElementException\u001b[0m                    Traceback (most recent call last)",
      "\u001b[1;32m<ipython-input-3-6ef7e01b5c09>\u001b[0m in \u001b[0;36m<module>\u001b[1;34m\u001b[0m\n\u001b[0;32m     14\u001b[0m \u001b[1;33m\u001b[0m\u001b[0m\n\u001b[0;32m     15\u001b[0m     \u001b[1;31m# 더보기 클릭\u001b[0m\u001b[1;33m\u001b[0m\u001b[1;33m\u001b[0m\u001b[1;33m\u001b[0m\u001b[0m\n\u001b[1;32m---> 16\u001b[1;33m     \u001b[0mdriver\u001b[0m\u001b[1;33m.\u001b[0m\u001b[0mfind_element_by_xpath\u001b[0m\u001b[1;33m(\u001b[0m\u001b[1;34m\"//span[@class='RveJvd snByac']\"\u001b[0m\u001b[1;33m)\u001b[0m\u001b[1;33m.\u001b[0m\u001b[0mclick\u001b[0m\u001b[1;33m(\u001b[0m\u001b[1;33m)\u001b[0m\u001b[1;33m\u001b[0m\u001b[1;33m\u001b[0m\u001b[0m\n\u001b[0m\u001b[0;32m     17\u001b[0m \u001b[1;33m\u001b[0m\u001b[0m\n\u001b[0;32m     18\u001b[0m     \u001b[1;31m# 종료 조건\u001b[0m\u001b[1;33m\u001b[0m\u001b[1;33m\u001b[0m\u001b[1;33m\u001b[0m\u001b[0m\n",
      "\u001b[1;32mD:\\Anaconda3\\lib\\site-packages\\selenium\\webdriver\\remote\\webdriver.py\u001b[0m in \u001b[0;36mfind_element_by_xpath\u001b[1;34m(self, xpath)\u001b[0m\n\u001b[0;32m    392\u001b[0m             \u001b[0melement\u001b[0m \u001b[1;33m=\u001b[0m \u001b[0mdriver\u001b[0m\u001b[1;33m.\u001b[0m\u001b[0mfind_element_by_xpath\u001b[0m\u001b[1;33m(\u001b[0m\u001b[1;34m'//div/td[1]'\u001b[0m\u001b[1;33m)\u001b[0m\u001b[1;33m\u001b[0m\u001b[1;33m\u001b[0m\u001b[0m\n\u001b[0;32m    393\u001b[0m         \"\"\"\n\u001b[1;32m--> 394\u001b[1;33m         \u001b[1;32mreturn\u001b[0m \u001b[0mself\u001b[0m\u001b[1;33m.\u001b[0m\u001b[0mfind_element\u001b[0m\u001b[1;33m(\u001b[0m\u001b[0mby\u001b[0m\u001b[1;33m=\u001b[0m\u001b[0mBy\u001b[0m\u001b[1;33m.\u001b[0m\u001b[0mXPATH\u001b[0m\u001b[1;33m,\u001b[0m \u001b[0mvalue\u001b[0m\u001b[1;33m=\u001b[0m\u001b[0mxpath\u001b[0m\u001b[1;33m)\u001b[0m\u001b[1;33m\u001b[0m\u001b[1;33m\u001b[0m\u001b[0m\n\u001b[0m\u001b[0;32m    395\u001b[0m \u001b[1;33m\u001b[0m\u001b[0m\n\u001b[0;32m    396\u001b[0m     \u001b[1;32mdef\u001b[0m \u001b[0mfind_elements_by_xpath\u001b[0m\u001b[1;33m(\u001b[0m\u001b[0mself\u001b[0m\u001b[1;33m,\u001b[0m \u001b[0mxpath\u001b[0m\u001b[1;33m)\u001b[0m\u001b[1;33m:\u001b[0m\u001b[1;33m\u001b[0m\u001b[1;33m\u001b[0m\u001b[0m\n",
      "\u001b[1;32mD:\\Anaconda3\\lib\\site-packages\\selenium\\webdriver\\remote\\webdriver.py\u001b[0m in \u001b[0;36mfind_element\u001b[1;34m(self, by, value)\u001b[0m\n\u001b[0;32m    974\u001b[0m                 \u001b[0mby\u001b[0m \u001b[1;33m=\u001b[0m \u001b[0mBy\u001b[0m\u001b[1;33m.\u001b[0m\u001b[0mCSS_SELECTOR\u001b[0m\u001b[1;33m\u001b[0m\u001b[1;33m\u001b[0m\u001b[0m\n\u001b[0;32m    975\u001b[0m                 \u001b[0mvalue\u001b[0m \u001b[1;33m=\u001b[0m \u001b[1;34m'[name=\"%s\"]'\u001b[0m \u001b[1;33m%\u001b[0m \u001b[0mvalue\u001b[0m\u001b[1;33m\u001b[0m\u001b[1;33m\u001b[0m\u001b[0m\n\u001b[1;32m--> 976\u001b[1;33m         return self.execute(Command.FIND_ELEMENT, {\n\u001b[0m\u001b[0;32m    977\u001b[0m             \u001b[1;34m'using'\u001b[0m\u001b[1;33m:\u001b[0m \u001b[0mby\u001b[0m\u001b[1;33m,\u001b[0m\u001b[1;33m\u001b[0m\u001b[1;33m\u001b[0m\u001b[0m\n\u001b[0;32m    978\u001b[0m             'value': value})['value']\n",
      "\u001b[1;32mD:\\Anaconda3\\lib\\site-packages\\selenium\\webdriver\\remote\\webdriver.py\u001b[0m in \u001b[0;36mexecute\u001b[1;34m(self, driver_command, params)\u001b[0m\n\u001b[0;32m    319\u001b[0m         \u001b[0mresponse\u001b[0m \u001b[1;33m=\u001b[0m \u001b[0mself\u001b[0m\u001b[1;33m.\u001b[0m\u001b[0mcommand_executor\u001b[0m\u001b[1;33m.\u001b[0m\u001b[0mexecute\u001b[0m\u001b[1;33m(\u001b[0m\u001b[0mdriver_command\u001b[0m\u001b[1;33m,\u001b[0m \u001b[0mparams\u001b[0m\u001b[1;33m)\u001b[0m\u001b[1;33m\u001b[0m\u001b[1;33m\u001b[0m\u001b[0m\n\u001b[0;32m    320\u001b[0m         \u001b[1;32mif\u001b[0m \u001b[0mresponse\u001b[0m\u001b[1;33m:\u001b[0m\u001b[1;33m\u001b[0m\u001b[1;33m\u001b[0m\u001b[0m\n\u001b[1;32m--> 321\u001b[1;33m             \u001b[0mself\u001b[0m\u001b[1;33m.\u001b[0m\u001b[0merror_handler\u001b[0m\u001b[1;33m.\u001b[0m\u001b[0mcheck_response\u001b[0m\u001b[1;33m(\u001b[0m\u001b[0mresponse\u001b[0m\u001b[1;33m)\u001b[0m\u001b[1;33m\u001b[0m\u001b[1;33m\u001b[0m\u001b[0m\n\u001b[0m\u001b[0;32m    322\u001b[0m             response['value'] = self._unwrap_value(\n\u001b[0;32m    323\u001b[0m                 response.get('value', None))\n",
      "\u001b[1;32mD:\\Anaconda3\\lib\\site-packages\\selenium\\webdriver\\remote\\errorhandler.py\u001b[0m in \u001b[0;36mcheck_response\u001b[1;34m(self, response)\u001b[0m\n\u001b[0;32m    240\u001b[0m                 \u001b[0malert_text\u001b[0m \u001b[1;33m=\u001b[0m \u001b[0mvalue\u001b[0m\u001b[1;33m[\u001b[0m\u001b[1;34m'alert'\u001b[0m\u001b[1;33m]\u001b[0m\u001b[1;33m.\u001b[0m\u001b[0mget\u001b[0m\u001b[1;33m(\u001b[0m\u001b[1;34m'text'\u001b[0m\u001b[1;33m)\u001b[0m\u001b[1;33m\u001b[0m\u001b[1;33m\u001b[0m\u001b[0m\n\u001b[0;32m    241\u001b[0m             \u001b[1;32mraise\u001b[0m \u001b[0mexception_class\u001b[0m\u001b[1;33m(\u001b[0m\u001b[0mmessage\u001b[0m\u001b[1;33m,\u001b[0m \u001b[0mscreen\u001b[0m\u001b[1;33m,\u001b[0m \u001b[0mstacktrace\u001b[0m\u001b[1;33m,\u001b[0m \u001b[0malert_text\u001b[0m\u001b[1;33m)\u001b[0m\u001b[1;33m\u001b[0m\u001b[1;33m\u001b[0m\u001b[0m\n\u001b[1;32m--> 242\u001b[1;33m         \u001b[1;32mraise\u001b[0m \u001b[0mexception_class\u001b[0m\u001b[1;33m(\u001b[0m\u001b[0mmessage\u001b[0m\u001b[1;33m,\u001b[0m \u001b[0mscreen\u001b[0m\u001b[1;33m,\u001b[0m \u001b[0mstacktrace\u001b[0m\u001b[1;33m)\u001b[0m\u001b[1;33m\u001b[0m\u001b[1;33m\u001b[0m\u001b[0m\n\u001b[0m\u001b[0;32m    243\u001b[0m \u001b[1;33m\u001b[0m\u001b[0m\n\u001b[0;32m    244\u001b[0m     \u001b[1;32mdef\u001b[0m \u001b[0m_value_or_default\u001b[0m\u001b[1;33m(\u001b[0m\u001b[0mself\u001b[0m\u001b[1;33m,\u001b[0m \u001b[0mobj\u001b[0m\u001b[1;33m,\u001b[0m \u001b[0mkey\u001b[0m\u001b[1;33m,\u001b[0m \u001b[0mdefault\u001b[0m\u001b[1;33m)\u001b[0m\u001b[1;33m:\u001b[0m\u001b[1;33m\u001b[0m\u001b[1;33m\u001b[0m\u001b[0m\n",
      "\u001b[1;31mNoSuchElementException\u001b[0m: Message: no such element: Unable to locate element: {\"method\":\"xpath\",\"selector\":\"//span[@class='RveJvd snByac']\"}\n  (Session info: chrome=92.0.4515.159)\n"
     ]
    }
   ],
   "source": [
    "# Enter the website page\n",
    "url = \"https://play.google.com/store/apps/details?id=com.coupang.mobile.eats.merchant&hl=ko&gl=US&showAllReviews=true\"\n",
    "driver = webdriver.Chrome(\"D:/temp/chromedriver_win32/chromedriver.exe\")\n",
    "driver.get(url)\n",
    "\n",
    "# Scrape Data\n",
    "SCROLL_PAUSE_TIME = 1.5\n",
    "last_height = driver.execute_script(\"return document.body.scrollHeight\")\n",
    "while True:\n",
    "    # 4번의 스크롤링\n",
    "    for i in range(4):\n",
    "        driver.execute_script(\"window.scrollTo(0, document.body.scrollHeight);\")\n",
    "        time.sleep(SCROLL_PAUSE_TIME)\n",
    "        \n",
    "    # 더보기 클릭\n",
    "    driver.find_element_by_xpath(\"//span[@class='RveJvd snByac']\").click()\n",
    "    \n",
    "    # 종료 조건\n",
    "    new_height = driver.execute_script(\"return document.body.scrollHeight\")\n",
    "    if new_height == last_height:\n",
    "        break\n",
    "    last_height = new_height"
   ]
  },
  {
   "cell_type": "markdown",
   "metadata": {},
   "source": [
    "- 오류창이 나면 마무리 된 것. 쿠팡이츠의 경우 약 44000개의 리뷰가 있으나 일정 기간까지만 나타나게 한 것 같다."
   ]
  },
  {
   "cell_type": "code",
   "execution_count": 4,
   "metadata": {},
   "outputs": [
    {
     "name": "stdout",
     "output_type": "stream",
     "text": [
      "Element is visible?True\n",
      "0th more button is clicked and wait 1.75 secs...\n",
      "Element is visible?True\n",
      "1th more button is clicked and wait 1.75 secs...\n",
      "Element is visible?True\n",
      "2th more button is clicked and wait 1.75 secs...\n",
      "Element is visible?True\n",
      "3th more button is clicked and wait 1.75 secs...\n",
      "Element is visible?True\n",
      "4th more button is clicked and wait 1.75 secs...\n",
      "Element is visible?True\n",
      "5th more button is clicked and wait 1.75 secs...\n",
      "Element is visible?True\n",
      "6th more button is clicked and wait 1.75 secs...\n",
      "Element is visible?True\n",
      "7th more button is clicked and wait 1.75 secs...\n",
      "Element is visible?True\n",
      "8th more button is clicked and wait 1.75 secs...\n",
      "Element is visible?True\n",
      "9th more button is clicked and wait 1.75 secs...\n",
      "Element is visible?True\n",
      "10th more button is clicked and wait 1.75 secs...\n",
      "Element is visible?True\n",
      "11th more button is clicked and wait 1.75 secs...\n",
      "Element is visible?True\n",
      "12th more button is clicked and wait 1.75 secs...\n",
      "Element is visible?True\n",
      "13th more button is clicked and wait 1.75 secs...\n",
      "Element is visible?True\n",
      "14th more button is clicked and wait 1.75 secs...\n",
      "Element is visible?True\n",
      "15th more button is clicked and wait 1.75 secs...\n",
      "Element is visible?True\n",
      "16th more button is clicked and wait 1.75 secs...\n",
      "Element is visible?True\n",
      "17th more button is clicked and wait 1.75 secs...\n",
      "Element is visible?True\n",
      "18th more button is clicked and wait 1.75 secs...\n"
     ]
    }
   ],
   "source": [
    "# [전체 리뷰] 버튼 클릭하여 펼치기\n",
    "spread_review = driver.find_elements_by_xpath(\"//button[@jsaction='click:TiglPc']\")\n",
    "for i in range(len(spread_review)):\n",
    "    isTrue = spread_review[i].is_displayed()\n",
    "    print(\"Element is visible?\" + str(isTrue))\n",
    "    if isTrue:\n",
    "        spread_review[i].send_keys(Keys.ENTER) # .click() 대신 .send_keys(Keys.ENTER)를 사용\n",
    "        print(str(i)+\"th more button is clicked and wait 1.75 secs...\")\n",
    "        time.sleep(SCROLL_PAUSE_TIME)\n",
    "        \n",
    "reviews = driver.find_elements_by_xpath(\"//span[contains(@jsname, 'bN97Pc')]\")  \n",
    "long_reviews = driver.find_elements_by_xpath(\"//span[@jsname='fbQN7e']\")\n",
    "    \n",
    "# merge two lists\n",
    "merged_review = [t.text if t.text!=\"\" else long_reviews[i].text for i, t in enumerate(reviews)]\n",
    "\n",
    "dates = driver.find_elements_by_xpath(\"//span[@class='p2TkOb']\")\n",
    "likes = driver.find_elements_by_xpath(\"//div[@aria-label='이 리뷰가 유용하다는 평가를 받은 횟수입니다.']\")\n",
    "stars = driver.find_elements_by_xpath(\"//span[@class='nt2C1d']/div[@class='pf5lIe']/div[@role='img']\")\n",
    "stars_text = stars[3].get_attribute('aria-label')\n",
    "\n",
    "# Merge Data\n",
    "res_deque = co.deque([])\n",
    "for i in range(len(reviews)):\n",
    "    res_deque.append({\n",
    "        'DATE' : dates[i].text,\n",
    "        'STAR' : stars[i].get_attribute('aria-label'),\n",
    "        'LIKE' : likes[i].text,\n",
    "        'REVIEW' : merged_review[i]\n",
    "    })\n",
    "\n",
    "res_df = pd.DataFrame(res_deque)\n",
    "res_df.to_csv('./Crawling_data_쿠팡이츠스토어.csv', index=False, encoding='utf-8-sig')"
   ]
  },
  {
   "cell_type": "markdown",
   "metadata": {},
   "source": [
    "- 저장경로 : C:\\\\Users\\\\서석주\\\\Bigdata_ML"
   ]
  },
  {
   "cell_type": "code",
   "execution_count": 5,
   "metadata": {},
   "outputs": [
    {
     "data": {
      "text/plain": [
       "240"
      ]
     },
     "execution_count": 5,
     "metadata": {},
     "output_type": "execute_result"
    }
   ],
   "source": [
    "len(reviews) # 329개의 리뷰 크롤링 완료(20210803 당시)"
   ]
  },
  {
   "cell_type": "code",
   "execution_count": 6,
   "metadata": {},
   "outputs": [],
   "source": [
    "driver.close()"
   ]
  }
 ],
 "metadata": {
  "kernelspec": {
   "display_name": "Python 3",
   "language": "python",
   "name": "python3"
  },
  "language_info": {
   "codemirror_mode": {
    "name": "ipython",
    "version": 3
   },
   "file_extension": ".py",
   "mimetype": "text/x-python",
   "name": "python",
   "nbconvert_exporter": "python",
   "pygments_lexer": "ipython3",
   "version": "3.8.8"
  }
 },
 "nbformat": 4,
 "nbformat_minor": 4
}
